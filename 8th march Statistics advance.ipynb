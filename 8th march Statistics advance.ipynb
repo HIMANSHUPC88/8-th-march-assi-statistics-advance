{
 "cells": [
  {
   "cell_type": "markdown",
   "id": "61cc28b4-35b2-4cda-a840-8be0d87b81a9",
   "metadata": {},
   "source": [
    "# Q1. What is the Probability density function?"
   ]
  },
  {
   "cell_type": "code",
   "execution_count": null,
   "id": "cf93d5dc-5ca6-4fbf-8b1a-96257409a0ff",
   "metadata": {},
   "outputs": [],
   "source": [
    "Probability density function is represents the probability distribution of a continuous random variable.\n",
    "it tells us how likely  it is for a random variable to take a particular value. \n",
    "(Probability density function a contionuous random variable ki probability distribution ko represent krta hai. \n",
    "ye hame batata hai ki ek random variable ke ek particular value lene ki probability.)"
   ]
  },
  {
   "cell_type": "markdown",
   "id": "5f84eb66-f16a-47f6-98f9-303967675ec6",
   "metadata": {},
   "source": [
    "# Q2. What are the types of Probability distribution?"
   ]
  },
  {
   "cell_type": "code",
   "execution_count": null,
   "id": "512fba74-53b9-4422-9897-11cfb3e5761f",
   "metadata": {},
   "outputs": [],
   "source": [
    "There are 5 types of probability distribution - \n",
    "1.Bernauli Distribution \n",
    "2.Bainomial Distribution\n",
    "3.Possion Distribution \n",
    "4.Normal or Gausion Distribution \n",
    "5.Uniform Distribution \n",
    "6.Power Law Distribution\n",
    "7.Log Normal Distribution"
   ]
  },
  {
   "cell_type": "markdown",
   "id": "b73973e5-1d6b-419b-bec3-3b1fd5a92b04",
   "metadata": {},
   "source": [
    "# Q3. Write a Python function to calculate the probability density function of a normal distribution with given mean and standard deviation at a given point."
   ]
  },
  {
   "cell_type": "code",
   "execution_count": 45,
   "id": "2e8b894a-9276-4b17-8e32-224183431568",
   "metadata": {},
   "outputs": [
    {
     "name": "stdout",
     "output_type": "stream",
     "text": [
      "0.05399096651318806\n"
     ]
    }
   ],
   "source": [
    "import numpy as np\n",
    "\n",
    "def normal_pdf(mean, stddev, x):\n",
    "    \n",
    "    pdf = np.exp(-(x - mean)**2 / (2 * stddev**2)) / (np.sqrt(2 * np.pi) * stddev)\n",
    "    \n",
    "    return pdf\n",
    "      \n",
    "mean = 5 \n",
    "stddev = 1\n",
    "x = 3\n",
    "pdf = normal_pdf(mean,stddev , x)\n",
    "print(pdf)"
   ]
  },
  {
   "cell_type": "markdown",
   "id": "e21f8f88-8e72-445a-ae6e-ebf3b0e524c5",
   "metadata": {},
   "source": [
    "# Q4. What are the properties of Binomial distribution? Give two examples of events where binomial distribution can be applied."
   ]
  },
  {
   "cell_type": "code",
   "execution_count": null,
   "id": "0f6bbab1-3714-45ec-b854-0bb80aecd7a1",
   "metadata": {},
   "outputs": [],
   "source": [
    "Properites of Binomial distribution - \n",
    "1. Two parameters - Binomial Distrinution have two parameter - n = number of trials  , p = probability of success of each number of trails.\n",
    "2. Descrete probability distribution - Binomial Distribution is a Discrete distribution. because it binary outcomes (0 success , 1 success , 3 success)\n",
    "3. Mean and Variance - The Mean and the variance of Binomial distribution are given as -\n",
    "   Mean(μ) = (n*p)\n",
    "   Variance (σ²) = (n*p*q)\n",
    "for example -\n",
    "1. Coin fips - when you flip a fair coin for n times you will probabily got Heads(success) or tails(failure) with a probibility of p (0.5).you can use \n",
    "binomial distribution for to model the number of heads obtained in n coin flips.\n",
    "2. Number of players whose participate in a compitation."
   ]
  },
  {
   "cell_type": "markdown",
   "id": "7a124636-6dfd-46c4-bfdb-1ed5b1a0ae3f",
   "metadata": {
    "tags": []
   },
   "source": [
    "# Q5. Generate a random sample of size 1000 from a binomial distribution with probability of success 0.4 and plot a histogram of the results using matplotlib."
   ]
  },
  {
   "cell_type": "code",
   "execution_count": null,
   "id": "d7714da6-e850-465b-b2da-f2c4a3a04efd",
   "metadata": {},
   "outputs": [
    {
     "data": {
      "image/png": "[encoded data removed]",
      "text/plain": [
       "<Figure size 640x480 with 1 Axes>"
      ]
     },
     "metadata": {},
     "output_type": "display_data"
    }
   ],
   "source": [
    "import numpy as np \n",
    "import matplotlib.pyplot as plt\n",
    "\n",
    "sample_size = 1000\n",
    "probability_of_success = 0.4\n",
    "random_data = np.random.binomial(sample_size , probability_of_success)\n",
    "plt.hist(random_data , bins = 2 , alpha = 0.7 , edgecolor = 'r' , color = 'g')\n",
    "\n",
    "plt.title('Binomial Distribution with p = 0.4')\n",
    "plt.xlabel('Success (1) / Failure (0)')\n",
    "plt.ylabel('Frequency')\n",
    "\n",
    "plt.show()"
   ]
  },
  {
   "cell_type": "markdown",
   "id": "1a70cfb9-6125-42cc-be77-c37aeb6b29f9",
   "metadata": {},
   "source": [
    "# Q6. Write a Python function to calculate the cumulative distribution function of a Poisson distribution with given mean at a given point."
   ]
  },
  {
   "cell_type": "code",
   "execution_count": 30,
   "id": "4a775912-d063-40f8-a61f-32828001eb9b",
   "metadata": {},
   "outputs": [
    {
     "name": "stdout",
     "output_type": "stream",
     "text": [
      "0.006737946999085467\n"
     ]
    }
   ],
   "source": [
    "import numpy as np \n",
    "def poisson_cdf(mean, x):\n",
    "    cdf = 0.0\n",
    "    for k in range(0 , x+1):\n",
    "        cdf += np.exp(-mean) * mean**k / np.math.factorial(k)#formula\n",
    "        return cdf\n",
    "# Example usage:\n",
    "mean = 5.0\n",
    "x = 3 \n",
    "cdf = poisson_cdf(mean , x )\n",
    "print(cdf)\n",
    "\n",
    "#Args :\n",
    " #  Mean : The mean of the poisson distribution.\n",
    "  # x : The point at which to calculate the cumulative distribution function.\n",
    "    "
   ]
  },
  {
   "cell_type": "markdown",
   "id": "efa41904-bf08-4172-ab73-cbb8ed4f7ade",
   "metadata": {},
   "source": [
    "# Q7. How Binomial distribution different from Poisson distribution?"
   ]
  },
  {
   "cell_type": "code",
   "execution_count": null,
   "id": "ef6280ee-a10c-4014-b289-efd9808ffb93",
   "metadata": {},
   "outputs": [],
   "source": [
    "Differences between Binomial distribution and Poisson distribtion.\n",
    "\n",
    "1. Nature of outcomes \n",
    "Binomial distribution = There are only Binary outcomes eoighter 0 or 1 .\n",
    "Poisson distribution = it shows the number of events occuring in a fixed time interval as outcomes.\n",
    "\n",
    "2. Number of Parameters\n",
    "Binomial distribution =  There are only two parameters - n (number of trails ) and p ( Probability of success in each trials ). \n",
    "Poisson distribution = there are only one parameter which is λ (lambda) ( the average of or events in a fixed interval ).\n",
    "\n",
    "3.Assumptions\n",
    "Binomial distribution = Assume a fixed number of trials of same probability of success.\n",
    "Poisson distribution = Assume that event are rare and random in nature and the average rate is constant over the time. \n"
   ]
  },
  {
   "cell_type": "markdown",
   "id": "15b7d66b-a01a-49fc-92f1-c7b9a31cf0f0",
   "metadata": {},
   "source": [
    "# Q8. Generate a random sample of size 1000 from a Poisson distribution with mean 5 and calculate the sample mean and variance."
   ]
  },
  {
   "cell_type": "code",
   "execution_count": 16,
   "id": "3fa23544-98d6-4d08-986e-2a1514b6d430",
   "metadata": {},
   "outputs": [
    {
     "name": "stdout",
     "output_type": "stream",
     "text": [
      "Sample mean 4.976\n",
      "Sample Variance 5.301424\n"
     ]
    }
   ],
   "source": [
    "import numpy as np\n",
    "from scipy.stats import poisson\n",
    "\n",
    "mean = 5 \n",
    "sample_size = 1000\n",
    "\n",
    "sample = np.random.poisson(mean,sample_size)\n",
    "\n",
    "Mean = np.mean(sample)\n",
    "Variance = np.var(sample)\n",
    "\n",
    "print(\"Sample mean\",Mean)\n",
    "print(\"Sample Variance\",Variance)"
   ]
  },
  {
   "cell_type": "markdown",
   "id": "7cb3713c-fd8e-4901-9c49-9454f2e8016e",
   "metadata": {},
   "source": [
    "# Q9. How mean and variance are related in Binomial distribution and Poisson distribution?"
   ]
  },
  {
   "cell_type": "code",
   "execution_count": null,
   "id": "772bf58c-85ae-4243-bba1-26696d77a293",
   "metadata": {},
   "outputs": [],
   "source": [
    "In the Binomial distribution mean and variance are related by its formulas -  mean = (n*p) , variance = (n*p*q) whereas \n",
    "In the Poission distribution's mean and variance are also related by its formulas - mean = (lambda*t) , variance = (lamba*t) "
   ]
  },
  {
   "cell_type": "markdown",
   "id": "ae7285e7-bd4b-4c46-8992-6f6c938eebe4",
   "metadata": {},
   "source": [
    "# Q10. In normal distribution with respect to mean position, where does the least frequent data appear?"
   ]
  },
  {
   "cell_type": "code",
   "execution_count": null,
   "id": "3307c036-c2db-4ea1-86a3-2e0f0100a4be",
   "metadata": {},
   "outputs": [],
   "source": [
    "In normal distribution with respect to mwan position , the least frequent data appear at the tail of the distribution .\n",
    "Because of the Tails of the distribution represents the least data points."
   ]
  },
  {
   "cell_type": "code",
   "execution_count": null,
   "id": "c45f4d4e-f7ce-4767-ae56-f1d289865140",
   "metadata": {},
   "outputs": [],
   "source": []
  }
 ],
 "metadata": {
  "kernelspec": {
   "display_name": "Python 3 (ipykernel)",
   "language": "python",
   "name": "python3"
  },
  "language_info": {
   "codemirror_mode": {
    "name": "ipython",
    "version": 3
   },
   "file_extension": ".py",
   "mimetype": "text/x-python",
   "name": "python",
   "nbconvert_exporter": "python",
   "pygments_lexer": "ipython3",
   "version": "3.10.8"
  }
 },
 "nbformat": 4,
 "nbformat_minor": 5
}
